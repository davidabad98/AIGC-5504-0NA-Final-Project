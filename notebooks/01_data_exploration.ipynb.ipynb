{
 "cells": [
  {
   "cell_type": "code",
   "execution_count": 2,
   "metadata": {},
   "outputs": [
    {
     "data": {
      "text/plain": [
       "(440833, 12)"
      ]
     },
     "execution_count": 2,
     "metadata": {},
     "output_type": "execute_result"
    }
   ],
   "source": [
    "import pandas as pd\n",
    "df =pd.read_csv('../data/raw/customer_churn_dataset-training-master.csv')\n",
    "\n",
    "df.shape"
   ]
  },
  {
   "cell_type": "code",
   "execution_count": 3,
   "metadata": {},
   "outputs": [
    {
     "name": "stdout",
     "output_type": "stream",
     "text": [
      "<class 'pandas.core.frame.DataFrame'>\n",
      "RangeIndex: 440833 entries, 0 to 440832\n",
      "Data columns (total 12 columns):\n",
      " #   Column             Non-Null Count   Dtype  \n",
      "---  ------             --------------   -----  \n",
      " 0   CustomerID         440832 non-null  float64\n",
      " 1   Age                440832 non-null  float64\n",
      " 2   Gender             440832 non-null  object \n",
      " 3   Tenure             440832 non-null  float64\n",
      " 4   Usage Frequency    440832 non-null  float64\n",
      " 5   Support Calls      440832 non-null  float64\n",
      " 6   Payment Delay      440832 non-null  float64\n",
      " 7   Subscription Type  440832 non-null  object \n",
      " 8   Contract Length    440832 non-null  object \n",
      " 9   Total Spend        440832 non-null  float64\n",
      " 10  Last Interaction   440832 non-null  float64\n",
      " 11  Churn              440832 non-null  float64\n",
      "dtypes: float64(9), object(3)\n",
      "memory usage: 40.4+ MB\n"
     ]
    }
   ],
   "source": [
    "df.info()"
   ]
  },
  {
   "cell_type": "code",
   "execution_count": 4,
   "metadata": {},
   "outputs": [
    {
     "data": {
      "text/plain": [
       "CustomerID           1\n",
       "Age                  1\n",
       "Gender               1\n",
       "Tenure               1\n",
       "Usage Frequency      1\n",
       "Support Calls        1\n",
       "Payment Delay        1\n",
       "Subscription Type    1\n",
       "Contract Length      1\n",
       "Total Spend          1\n",
       "Last Interaction     1\n",
       "Churn                1\n",
       "dtype: int64"
      ]
     },
     "execution_count": 4,
     "metadata": {},
     "output_type": "execute_result"
    }
   ],
   "source": [
    "df.isnull().sum()"
   ]
  },
  {
   "cell_type": "code",
   "execution_count": null,
   "metadata": {},
   "outputs": [],
   "source": []
  }
 ],
 "metadata": {
  "kernelspec": {
   "display_name": "tf",
   "language": "python",
   "name": "python3"
  },
  "language_info": {
   "codemirror_mode": {
    "name": "ipython",
    "version": 3
   },
   "file_extension": ".py",
   "mimetype": "text/x-python",
   "name": "python",
   "nbconvert_exporter": "python",
   "pygments_lexer": "ipython3",
   "version": "3.9.21"
  }
 },
 "nbformat": 4,
 "nbformat_minor": 2
}
